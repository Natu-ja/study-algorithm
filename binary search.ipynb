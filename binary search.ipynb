{
 "cells": [
  {
   "cell_type": "code",
   "execution_count": 1,
   "metadata": {},
   "outputs": [],
   "source": [
    "import numpy as np\n",
    "import pandas as pd\n",
    "import matplotlib.pyplot as plt\n",
    "import random\n",
    "import time\n",
    "import statistics"
   ]
  },
  {
   "cell_type": "markdown",
   "metadata": {},
   "source": [
    "# $2$分探索法（binary search）"
   ]
  },
  {
   "cell_type": "markdown",
   "metadata": {},
   "source": [
    "## 以下$2$分探索を行う関数"
   ]
  },
  {
   "cell_type": "code",
   "execution_count": 2,
   "metadata": {},
   "outputs": [],
   "source": [
    "def binary_search(df, target):\n",
    "    low = 0\n",
    "    high = len(df) -1\n",
    "    start = time.time()\n",
    "    while low <= high:\n",
    "        median = (low + high) // 2\n",
    "        if df[median][0] == target:\n",
    "            return median, time.time()-start\n",
    "        elif df[median][0] > target:\n",
    "            high = median - 1\n",
    "        else:\n",
    "            low = median + 1\n",
    "    return None, time.time()-start"
   ]
  },
  {
   "cell_type": "markdown",
   "metadata": {},
   "source": [
    "## 試しに適当な数で実験"
   ]
  },
  {
   "cell_type": "code",
   "execution_count": 3,
   "metadata": {},
   "outputs": [],
   "source": [
    "num  = 10\n",
    "figure1 = 0\n",
    "figure2 = 1"
   ]
  },
  {
   "cell_type": "code",
   "execution_count": 4,
   "metadata": {},
   "outputs": [],
   "source": [
    "df = pd.DataFrame()\n",
    "for i in range(num):\n",
    "    df.loc[i, 0]  = figure2\n",
    "    figure1, figure2 = figure2, figure1 + figure2"
   ]
  },
  {
   "cell_type": "code",
   "execution_count": 5,
   "metadata": {},
   "outputs": [
    {
     "data": {
      "text/html": [
       "<div>\n",
       "<style scoped>\n",
       "    .dataframe tbody tr th:only-of-type {\n",
       "        vertical-align: middle;\n",
       "    }\n",
       "\n",
       "    .dataframe tbody tr th {\n",
       "        vertical-align: top;\n",
       "    }\n",
       "\n",
       "    .dataframe thead th {\n",
       "        text-align: right;\n",
       "    }\n",
       "</style>\n",
       "<table border=\"1\" class=\"dataframe\">\n",
       "  <thead>\n",
       "    <tr style=\"text-align: right;\">\n",
       "      <th></th>\n",
       "      <th>0</th>\n",
       "    </tr>\n",
       "  </thead>\n",
       "  <tbody>\n",
       "    <tr>\n",
       "      <th>0</th>\n",
       "      <td>1.0</td>\n",
       "    </tr>\n",
       "    <tr>\n",
       "      <th>1</th>\n",
       "      <td>1.0</td>\n",
       "    </tr>\n",
       "    <tr>\n",
       "      <th>2</th>\n",
       "      <td>2.0</td>\n",
       "    </tr>\n",
       "    <tr>\n",
       "      <th>3</th>\n",
       "      <td>3.0</td>\n",
       "    </tr>\n",
       "    <tr>\n",
       "      <th>4</th>\n",
       "      <td>5.0</td>\n",
       "    </tr>\n",
       "    <tr>\n",
       "      <th>5</th>\n",
       "      <td>8.0</td>\n",
       "    </tr>\n",
       "    <tr>\n",
       "      <th>6</th>\n",
       "      <td>13.0</td>\n",
       "    </tr>\n",
       "    <tr>\n",
       "      <th>7</th>\n",
       "      <td>21.0</td>\n",
       "    </tr>\n",
       "    <tr>\n",
       "      <th>8</th>\n",
       "      <td>34.0</td>\n",
       "    </tr>\n",
       "    <tr>\n",
       "      <th>9</th>\n",
       "      <td>55.0</td>\n",
       "    </tr>\n",
       "  </tbody>\n",
       "</table>\n",
       "</div>"
      ],
      "text/plain": [
       "      0\n",
       "0   1.0\n",
       "1   1.0\n",
       "2   2.0\n",
       "3   3.0\n",
       "4   5.0\n",
       "5   8.0\n",
       "6  13.0\n",
       "7  21.0\n",
       "8  34.0\n",
       "9  55.0"
      ]
     },
     "execution_count": 5,
     "metadata": {},
     "output_type": "execute_result"
    }
   ],
   "source": [
    "df"
   ]
  },
  {
   "cell_type": "code",
   "execution_count": 6,
   "metadata": {},
   "outputs": [
    {
     "name": "stdout",
     "output_type": "stream",
     "text": [
      "[[1.0], [1.0], [2.0], [3.0], [5.0], [8.0], [13.0], [21.0], [34.0], [55.0]]\n"
     ]
    }
   ],
   "source": [
    "df = df.values.tolist()\n",
    "print(df)"
   ]
  },
  {
   "cell_type": "markdown",
   "metadata": {},
   "source": [
    "出力\n",
    "- $1$つめが何列目にあるかという情報\n",
    "- $2$つ目が探索にかかった時間"
   ]
  },
  {
   "cell_type": "code",
   "execution_count": 7,
   "metadata": {},
   "outputs": [
    {
     "name": "stdout",
     "output_type": "stream",
     "text": [
      "(8, 2.86102294921875e-06)\n"
     ]
    }
   ],
   "source": [
    "target = 34\n",
    "print(binary_search(df, target))"
   ]
  },
  {
   "cell_type": "markdown",
   "metadata": {},
   "source": [
    "##  リストの数を変えて実験"
   ]
  },
  {
   "cell_type": "markdown",
   "metadata": {},
   "source": [
    "### $2$分探索法を使用した場合"
   ]
  },
  {
   "cell_type": "code",
   "execution_count": 8,
   "metadata": {},
   "outputs": [],
   "source": [
    "all_time_list = []\n",
    "\n",
    "num  = [2, 4, 8, 16, 32, 64, 128, 256, 512, 1024]\n",
    "count = 10\n",
    "\n",
    "for i in range(len(num)):\n",
    "    time_list = []\n",
    "    figure1 = 0\n",
    "    figure2 = 1\n",
    "    df = pd.DataFrame()\n",
    "\n",
    "    for j in range(num[i]):\n",
    "        df.loc[j, 0]  = figure2\n",
    "        figure1, figure2 = figure2, figure1 + figure2\n",
    "\n",
    "    df = df.values.tolist()\n",
    "\n",
    "    for _ in range(count):\n",
    "        \n",
    "        t = binary_search(df, random.choice(df)[0])[1]\n",
    "        time_list.append(t)\n",
    "    all_time_list.append(time_list)"
   ]
  },
  {
   "cell_type": "code",
   "execution_count": 9,
   "metadata": {},
   "outputs": [],
   "source": [
    "mean_list_binary_search = []\n",
    "for i in range(len(all_time_list)):\n",
    "    mean = statistics.mean(all_time_list[i])\n",
    "    mean_list_binary_search.append(mean)\n"
   ]
  },
  {
   "cell_type": "code",
   "execution_count": 10,
   "metadata": {},
   "outputs": [
    {
     "data": {
      "image/png": "[encoded data removed]",
      "text/plain": [
       "<Figure size 432x288 with 1 Axes>"
      ]
     },
     "metadata": {
      "needs_background": "light"
     },
     "output_type": "display_data"
    }
   ],
   "source": [
    "plt.plot(num, mean_list_binary_search)\n",
    "plt.title('binary search')\n",
    "plt.show()"
   ]
  },
  {
   "cell_type": "markdown",
   "metadata": {},
   "source": [
    "### $2$分探索法を使用した場合を使用しない場合"
   ]
  },
  {
   "cell_type": "code",
   "execution_count": 11,
   "metadata": {},
   "outputs": [],
   "source": [
    "def search(df, target):\n",
    "    start = time.time()\n",
    "    for i in range(len(df)):\n",
    "        if df[i][0] == target:\n",
    "            return i, time.time()-start\n",
    "    return None, time.time()-start"
   ]
  },
  {
   "cell_type": "code",
   "execution_count": 12,
   "metadata": {},
   "outputs": [],
   "source": [
    "all_time_list = []\n",
    "\n",
    "num  = [2, 4, 8, 16, 32, 64, 128, 256, 512, 1024]\n",
    "count = 10\n",
    "\n",
    "for i in range(len(num)):\n",
    "    time_list = []\n",
    "    figure1 = 0\n",
    "    figure2 = 1\n",
    "    df = pd.DataFrame()\n",
    "\n",
    "    for j in range(num[i]):\n",
    "        df.loc[j, 0]  = figure2\n",
    "        figure1, figure2 = figure2, figure1 + figure2\n",
    "\n",
    "    df = df.values.tolist()\n",
    "    for _ in range(count):\n",
    "        \n",
    "        t = search(df, random.choice(df)[0])[1]\n",
    "        time_list.append(t)\n",
    "    all_time_list.append(time_list)"
   ]
  },
  {
   "cell_type": "code",
   "execution_count": 13,
   "metadata": {},
   "outputs": [],
   "source": [
    "mean_list = []\n",
    "for i in range(len(all_time_list)):\n",
    "    mean = statistics.mean(all_time_list[i])\n",
    "    mean_list.append(mean)"
   ]
  },
  {
   "cell_type": "code",
   "execution_count": 14,
   "metadata": {},
   "outputs": [
    {
     "data": {
      "image/png": "[encoded data removed]",
      "text/plain": [
       "<Figure size 432x288 with 1 Axes>"
      ]
     },
     "metadata": {
      "needs_background": "light"
     },
     "output_type": "display_data"
    }
   ],
   "source": [
    "plt.plot(num, mean_list)\n",
    "plt.title('search')\n",
    "plt.show()"
   ]
  },
  {
   "cell_type": "markdown",
   "metadata": {},
   "source": [
    "### $2$分探索を使用した場合としない場合の時間の比較"
   ]
  },
  {
   "cell_type": "code",
   "execution_count": 15,
   "metadata": {},
   "outputs": [
    {
     "data": {
      "image/png": "[encoded data removed]",
      "text/plain": [
       "<Figure size 432x288 with 1 Axes>"
      ]
     },
     "metadata": {
      "needs_background": "light"
     },
     "output_type": "display_data"
    }
   ],
   "source": [
    "plt.plot(num, mean_list, label = 'search')\n",
    "plt.plot(num, mean_list_binary_search, label = 'binary search')\n",
    "plt.legend()\n",
    "plt.show()"
   ]
  },
  {
   "cell_type": "markdown",
   "metadata": {},
   "source": [
    "わかりずらいので、縦軸を対数にする"
   ]
  },
  {
   "cell_type": "code",
   "execution_count": 16,
   "metadata": {},
   "outputs": [
    {
     "data": {
      "image/png": "[encoded data removed]",
      "text/plain": [
       "<Figure size 432x288 with 1 Axes>"
      ]
     },
     "metadata": {
      "needs_background": "light"
     },
     "output_type": "display_data"
    }
   ],
   "source": [
    "plt.plot(num, mean_list, label = 'search')\n",
    "plt.plot(num, mean_list_binary_search, label = 'binary search')\n",
    "plt.yscale(\"log\",base=2)\n",
    "plt.legend()\n",
    "plt.show()"
   ]
  },
  {
   "cell_type": "code",
   "execution_count": null,
   "metadata": {},
   "outputs": [],
   "source": []
  }
 ],
 "metadata": {
  "kernelspec": {
   "display_name": "Python 3.8.8 ('base')",
   "language": "python",
   "name": "python3"
  },
  "language_info": {
   "codemirror_mode": {
    "name": "ipython",
    "version": 3
   },
   "file_extension": ".py",
   "mimetype": "text/x-python",
   "name": "python",
   "nbconvert_exporter": "python",
   "pygments_lexer": "ipython3",
   "version": "3.8.8"
  },
  "orig_nbformat": 4,
  "vscode": {
   "interpreter": {
    "hash": "faf7b0736a4fc5f34d5962838615214477f321c51bb2a753fa5d478b0984b16d"
   }
  }
 },
 "nbformat": 4,
 "nbformat_minor": 2
}
